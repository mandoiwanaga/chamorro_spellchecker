{
 "cells": [
  {
   "cell_type": "code",
   "execution_count": 1,
   "metadata": {},
   "outputs": [],
   "source": [
    "from selenium.webdriver import Firefox\n",
    "import random\n",
    "import time\n",
    "import json"
   ]
  },
  {
   "cell_type": "code",
   "execution_count": 2,
   "metadata": {},
   "outputs": [],
   "source": [
    "#set browser\n",
    "browser = Firefox()"
   ]
  },
  {
   "cell_type": "code",
   "execution_count": 3,
   "metadata": {},
   "outputs": [],
   "source": [
    "#create shorter alias for ease of use\n",
    "xpath = browser.find_element_by_xpath"
   ]
  },
  {
   "cell_type": "code",
   "execution_count": 13,
   "metadata": {},
   "outputs": [],
   "source": [
    "def scrape_page(url):\n",
    "    \n",
    "    \"\"\"Scrape words and definition from url,\n",
    "       Create a dictionary and insert, \n",
    "       Save as a json file.\"\"\"\n",
    "    \n",
    "    for i in range(1, 42):\n",
    "\n",
    "        chamorro_dictionary = {}\n",
    "        \n",
    "        try:\n",
    "            chamorro_dictionary['word'] = (xpath(f'//*[@id=\"dictionary\"]/dl/dd[{i}]/a')).text.split('\\n\\n')\n",
    "\n",
    "        except:\n",
    "            pass\n",
    "\n",
    "        try:\n",
    "            chamorro_dictionary['definition'] = xpath(f'//*[@id=\"dictionary\"]/dl/dt[{i}]').text.split('\\n\\n')\n",
    "\n",
    "        except:\n",
    "            pass\n",
    "\n",
    "        with open('chamorro_dict2.json', 'a') as f:\n",
    "            json.dump(chamorro_dictionary, f)\n",
    "            f.write('\\n')\n",
    "\n",
    "        time.sleep(random.random())"
   ]
  },
  {
   "cell_type": "code",
   "execution_count": 25,
   "metadata": {},
   "outputs": [],
   "source": [
    "for i in range(1,4):\n",
    "    url = f\"http://www.chamoru.info/dictionary/display.php?action=search&by=Y&nr_page={i}\"\n",
    "    browser.get(url)\n",
    "    scrape_page(url)"
   ]
  },
  {
   "cell_type": "code",
   "execution_count": null,
   "metadata": {},
   "outputs": [],
   "source": []
  },
  {
   "cell_type": "code",
   "execution_count": null,
   "metadata": {},
   "outputs": [],
   "source": []
  },
  {
   "cell_type": "code",
   "execution_count": null,
   "metadata": {},
   "outputs": [],
   "source": []
  },
  {
   "cell_type": "code",
   "execution_count": null,
   "metadata": {},
   "outputs": [],
   "source": []
  },
  {
   "cell_type": "code",
   "execution_count": null,
   "metadata": {},
   "outputs": [],
   "source": []
  },
  {
   "cell_type": "code",
   "execution_count": null,
   "metadata": {},
   "outputs": [],
   "source": [
    "#list_a = 'a', 'b', 'c'\n",
    "#list_b = 10, 20, 5"
   ]
  },
  {
   "cell_type": "code",
   "execution_count": null,
   "metadata": {},
   "outputs": [],
   "source": [
    "#page_list = [('a', 10), ('b', 20), ('c', 5)]"
   ]
  },
  {
   "cell_type": "code",
   "execution_count": null,
   "metadata": {},
   "outputs": [],
   "source": [
    "#for i in page_list:\n",
    " #   for a in i[0]:\n",
    "  #      url = f\"http://www.chamoru.info/dictionary/display.php?action=search&by={a}&nr_page={}\""
   ]
  }
 ],
 "metadata": {
  "kernelspec": {
   "display_name": "learn-env",
   "language": "python",
   "name": "learn-env"
  },
  "language_info": {
   "codemirror_mode": {
    "name": "ipython",
    "version": 3
   },
   "file_extension": ".py",
   "mimetype": "text/x-python",
   "name": "python",
   "nbconvert_exporter": "python",
   "pygments_lexer": "ipython3",
   "version": "3.6.6"
  }
 },
 "nbformat": 4,
 "nbformat_minor": 2
}
