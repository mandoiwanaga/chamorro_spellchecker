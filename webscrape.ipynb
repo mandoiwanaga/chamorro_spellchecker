{
 "cells": [
  {
   "cell_type": "code",
   "execution_count": null,
   "metadata": {},
   "outputs": [],
   "source": [
    "from selenium.webdriver import Firefox\n",
    "import random\n",
    "import time\n",
    "import json"
   ]
  },
  {
   "cell_type": "code",
   "execution_count": null,
   "metadata": {},
   "outputs": [],
   "source": [
    "#set browser\n",
    "browser = Firefox()"
   ]
  },
  {
   "cell_type": "code",
   "execution_count": null,
   "metadata": {},
   "outputs": [],
   "source": [
    "#create shorter alias for ease of use\n",
    "xpath = browser.find_element_by_xpath"
   ]
  },
  {
   "cell_type": "code",
   "execution_count": null,
   "metadata": {},
   "outputs": [],
   "source": [
    "def scrape_page(url):\n",
    "    \n",
    "    \"\"\"Scrape words and definition from url\"\"\"\n",
    "    \n",
    "    for i in range(1, 41):\n",
    "\n",
    "        chamorro_dictionary = {}\n",
    "        \n",
    "        try:\n",
    "            chamorro_dictionary['word'] = (xpath(f'//*[@id=\"dictionary\"]/dl/dd[{i}]/a')).text\n",
    "\n",
    "        except:\n",
    "            pass\n",
    "\n",
    "        try:\n",
    "            chamorro_dictionary['definition'] = xpath(f'//*[@id=\"dictionary\"]/dl/dt[{i}]').text\n",
    "\n",
    "        except:\n",
    "            pass\n",
    "\n",
    "        with open('chamorro_dict.json', 'a') as f:\n",
    "            json.dump(chamorro_dictionary, f)\n",
    "            f.write('\\n')\n",
    "\n",
    "        time.sleep(3 + random.random()*10)"
   ]
  },
  {
   "cell_type": "code",
   "execution_count": null,
   "metadata": {},
   "outputs": [],
   "source": [
    "for i in range(1,7):\n",
    "    url = f\"http://www.chamoru.info/dictionary/display.php?action=search&by=A&nr_page={i}\"\n",
    "    browser.get(url)\n",
    "    scrape_page(url)\n",
    "    \n",
    "    "
   ]
  },
  {
   "cell_type": "code",
   "execution_count": null,
   "metadata": {},
   "outputs": [],
   "source": []
  }
 ],
 "metadata": {
  "kernelspec": {
   "display_name": "learn-env",
   "language": "python",
   "name": "learn-env"
  },
  "language_info": {
   "codemirror_mode": {
    "name": "ipython",
    "version": 3
   },
   "file_extension": ".py",
   "mimetype": "text/x-python",
   "name": "python",
   "nbconvert_exporter": "python",
   "pygments_lexer": "ipython3",
   "version": "3.6.6"
  }
 },
 "nbformat": 4,
 "nbformat_minor": 2
}
